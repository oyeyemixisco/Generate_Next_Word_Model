{
  "nbformat": 4,
  "nbformat_minor": 0,
  "metadata": {
    "colab": {
      "provenance": [],
      "authorship_tag": "ABX9TyM4sDsunD46fyfnj1IaKk97",
      "include_colab_link": true
    },
    "kernelspec": {
      "name": "python3",
      "display_name": "Python 3"
    },
    "language_info": {
      "name": "python"
    }
  },
  "cells": [
    {
      "cell_type": "markdown",
      "metadata": {
        "id": "view-in-github",
        "colab_type": "text"
      },
      "source": [
        "<a href=\"https://colab.research.google.com/github/oyeyemixisco/Generative_AI_Model/blob/main/SentimentAnalysisPredictor.ipynb\" target=\"_parent\"><img src=\"https://colab.research.google.com/assets/colab-badge.svg\" alt=\"Open In Colab\"/></a>"
      ]
    },
    {
      "cell_type": "markdown",
      "source": [
        "Sentimental Analysis Model based on User Inputs or text"
      ],
      "metadata": {
        "id": "_DwrWQvrGnQX"
      }
    },
    {
      "cell_type": "code",
      "execution_count": 2,
      "metadata": {
        "id": "lcVlwUoWGkkv"
      },
      "outputs": [],
      "source": [
        "# load BERT from hugging face\n",
        "from transformers import BertForSequenceClassification, BertTokenizer\n",
        "\n",
        "\n",
        "# Load a pre-trained sentiment analysis model\n",
        "model_name = \"textattack/bert-base-uncased-imdb\"\n",
        "model = BertForSequenceClassification.from_pretrained(model_name, num_labels=2)\n"
      ]
    },
    {
      "cell_type": "code",
      "source": [
        "# Get user input\n",
        "user_input = input(\"Enter a sentence: \")"
      ],
      "metadata": {
        "colab": {
          "base_uri": "https://localhost:8080/"
        },
        "id": "9cgrltr5He63",
        "outputId": "408ed508-098e-453c-e067-595e831a6b7a"
      },
      "execution_count": 16,
      "outputs": [
        {
          "name": "stdout",
          "output_type": "stream",
          "text": [
            "Enter a sentence: Chelsea is a billion boys club with zero trophy won\n"
          ]
        }
      ]
    },
    {
      "cell_type": "code",
      "source": [
        "import torch\n",
        "\n",
        "# Tokenize the user input\n",
        "tokenizer = BertTokenizer.from_pretrained(model_name)\n",
        "inputs = tokenizer(user_input, return_tensors=\"pt\")\n",
        "\n",
        "# Make prediction\n",
        "with torch.no_grad():\n",
        "    outputs = model(**inputs).logits\n",
        "    probabilities = torch.nn.functional.softmax(outputs, dim=1)\n",
        "    predicted_class = torch.argmax(probabilities)\n"
      ],
      "metadata": {
        "id": "1p6rcCV9Hj1E"
      },
      "execution_count": 17,
      "outputs": []
    },
    {
      "cell_type": "code",
      "source": [
        "# Display sentiment result\n",
        "if predicted_class == 1:\n",
        "    print(f\"Your Text: {user_input}\")\n",
        "    print(f\"Sentiment: Positive ({probabilities[0][1] * 100:.2f}%)\")\n",
        "else:\n",
        "    print(f\"Your Text: {user_input}\")\n",
        "    print(f\"Sentiment: Negative ({probabilities[0][0] * 100:.2f}%)\")"
      ],
      "metadata": {
        "colab": {
          "base_uri": "https://localhost:8080/"
        },
        "id": "YPOZeGusHkv2",
        "outputId": "a25acb92-9bb0-4002-84b8-076a98e20fe6"
      },
      "execution_count": 18,
      "outputs": [
        {
          "output_type": "stream",
          "name": "stdout",
          "text": [
            "Your Text: Chelsea is a billion boys club with zero trophy won\n",
            "Sentiment: Negative (62.98%)\n"
          ]
        }
      ]
    }
  ]
}